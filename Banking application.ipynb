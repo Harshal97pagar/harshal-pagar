{
 "cells": [
  {
   "cell_type": "code",
   "execution_count": 34,
   "id": "6df8b491",
   "metadata": {},
   "outputs": [
    {
     "data": {
      "text/plain": [
       "'SBI2021080323'"
      ]
     },
     "execution_count": 34,
     "metadata": {},
     "output_type": "execute_result"
    }
   ],
   "source": [
    "from datetime import datetime\n",
    "BANK_CUSTOMER_DETAILS=list()\n",
    "def generate_account_no():\n",
    "    return datetime.now().strftime('SBI%Y%m%d%S')\n",
    "    \n",
    "def create_account(**customer_info):\n",
    "    \"\"\"\n",
    "    customer_info should contain name, mobile, account_type, amount\n",
    "    Return - Account Number\n",
    "    \"\"\"\n",
    "    account_no = generate_account_no()\n",
    "    #Create a new key in customer_info with name account_number\n",
    "    #Call generate account_no function to get account no.\n",
    "    customer_info['account_number'] = account_no\n",
    "    \n",
    "    #Now add current customer data to BANK_CUSTOMER_DETAILS list\n",
    "    BANK_CUSTOMER_DETAILS.append(customer_info)\n",
    "    \n",
    "    return account_no\n",
    "\n",
    "def deposit(account_number, amount):\n",
    "    \"\"\"\n",
    "    Based on account number deposit the amount\n",
    "    Return - amount\n",
    "    \"\"\"\n",
    "    for user in BANK_CUSTOMER_DETAILS:\n",
    "        if user.get('account_number') == account_number:\n",
    "            current_amount = user.get('amount')\n",
    "            print(\"Amount before deposit \", current_amount)\n",
    "            user['amount'] = current_amount + amount\n",
    "            print(\"After deposit amount is \", user.get('amount'))\n",
    "            \n",
    "def withdraw(account_number, amount):\n",
    "    \"\"\"\n",
    "    Based on account number withdraw the amount\n",
    "    Return - amount\n",
    "    \"\"\"\n",
    "    for user in BANK_CUSTOMER_DETAILS:\n",
    "        if user.get('account_number') == account_number:\n",
    "            current_amount = user.get('amount')\n",
    "            print(\"Amount before withdraw \", current_amount)\n",
    "            user['amount'] = current_amount - amount\n",
    "            print(\"After withdraw amount is \", user.get('amount'))\n",
    "            \n",
    "def check_balance(account_number):\n",
    "    \"\"\"\n",
    "    Return balance of account_number\n",
    "    \"\"\"\n",
    "    for user in BANK_CUSTOMER_DETAILS:\n",
    "        if user.get('account_number') == account_number:\n",
    "            return user.get(\"amount\")\n",
    "\n",
    "#Call create_account function and pass values to it.\n",
    "\n",
    "create_account(name='Viraj', mobile=9405109507, account_type='saving', amount=5000)\n",
    "    \n",
    "    "
   ]
  },
  {
   "cell_type": "code",
   "execution_count": 35,
   "id": "f6781dcd",
   "metadata": {},
   "outputs": [
    {
     "data": {
      "text/plain": [
       "[{'name': 'Viraj',\n",
       "  'mobile': 9405109507,\n",
       "  'account_type': 'saving',\n",
       "  'amount': 5000,\n",
       "  'account_number': 'SBI2021080323'}]"
      ]
     },
     "execution_count": 35,
     "metadata": {},
     "output_type": "execute_result"
    }
   ],
   "source": [
    "BANK_CUSTOMER_DETAILS"
   ]
  },
  {
   "cell_type": "code",
   "execution_count": 36,
   "id": "272d458b",
   "metadata": {},
   "outputs": [
    {
     "name": "stdout",
     "output_type": "stream",
     "text": [
      "Amount before withdraw  5000\n",
      "After withdraw amount is  3000\n"
     ]
    }
   ],
   "source": [
    "withdraw('SBI2021080323',2000)"
   ]
  },
  {
   "cell_type": "code",
   "execution_count": 37,
   "id": "04980f57",
   "metadata": {},
   "outputs": [],
   "source": [
    "deposite('SBI2021080323',1000)"
   ]
  },
  {
   "cell_type": "code",
   "execution_count": 38,
   "id": "c318be25",
   "metadata": {},
   "outputs": [
    {
     "data": {
      "text/plain": [
       "[{'name': 'Viraj',\n",
       "  'mobile': 9405109507,\n",
       "  'account_type': 'saving',\n",
       "  'amount': 3000,\n",
       "  'account_number': 'SBI2021080323'}]"
      ]
     },
     "execution_count": 38,
     "metadata": {},
     "output_type": "execute_result"
    }
   ],
   "source": [
    "BANK_CUSTOMER_DETAILS"
   ]
  },
  {
   "cell_type": "code",
   "execution_count": 40,
   "id": "cd9702ee",
   "metadata": {},
   "outputs": [],
   "source": [
    "deposite('SBI2021080323',1000)"
   ]
  },
  {
   "cell_type": "code",
   "execution_count": 41,
   "id": "0546c95a",
   "metadata": {},
   "outputs": [
    {
     "data": {
      "text/plain": [
       "3000"
      ]
     },
     "execution_count": 41,
     "metadata": {},
     "output_type": "execute_result"
    }
   ],
   "source": [
    "check_balance('SBI2021080323')"
   ]
  },
  {
   "cell_type": "code",
   "execution_count": null,
   "id": "5df48449",
   "metadata": {},
   "outputs": [],
   "source": []
  }
 ],
 "metadata": {
  "kernelspec": {
   "display_name": "Python 3",
   "language": "python",
   "name": "python3"
  },
  "language_info": {
   "codemirror_mode": {
    "name": "ipython",
    "version": 3
   },
   "file_extension": ".py",
   "mimetype": "text/x-python",
   "name": "python",
   "nbconvert_exporter": "python",
   "pygments_lexer": "ipython3",
   "version": "3.8.8"
  }
 },
 "nbformat": 4,
 "nbformat_minor": 5
}
